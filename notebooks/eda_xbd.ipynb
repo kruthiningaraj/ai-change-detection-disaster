{
 "cells": [
  {
   "cell_type": "markdown",
   "metadata": {},
   "source": [
    "# 🛰️ EDA - xBD (xView2) Dataset\n",
    "This notebook explores the xBD dataset with pre- and post-disaster satellite imagery and building labels."
   ]
  },
  {
   "cell_type": "code",
   "execution_count": 1,
   "metadata": {},
   "outputs": [],
   "source": [
    "import os\n",
    "import cv2\n",
    "import matplotlib.pyplot as plt\n",
    "\n",
    "# Set dataset paths (adjust if needed)\n",
    "pre_dir = '../data/xBD/train/pre_disaster'\n",
    "post_dir = '../data/xBD/train/post_disaster'\n",
    "label_dir = '../data/xBD/train/labels'\n",
    "\n",
    "pre_images = sorted([f for f in os.listdir(pre_dir) if f.endswith(('png','jpg'))])\n",
    "post_images = sorted([f for f in os.listdir(post_dir) if f.endswith(('png','jpg'))])\n",
    "print(f'Total pre-disaster images: {len(pre_images)}')\n",
    "print(f'Total post-disaster images: {len(post_images)}')"
   ]
  },
  {
   "cell_type": "code",
   "execution_count": 2,
   "metadata": {},
   "outputs": [],
   "source": [
    "# Display sample image pairs\n",
    "for i in range(3):\n",
    "    pre_img = cv2.imread(os.path.join(pre_dir, pre_images[i]))\n",
    "    post_img = cv2.imread(os.path.join(post_dir, post_images[i]))\n",
    "    pre_img = cv2.cvtColor(pre_img, cv2.COLOR_BGR2RGB)\n",
    "    post_img = cv2.cvtColor(post_img, cv2.COLOR_BGR2RGB)\n",
    "\n",
    "    plt.figure(figsize=(12,5))\n",
    "    plt.subplot(1,2,1); plt.imshow(pre_img); plt.title('Pre-Disaster'); plt.axis('off')\n",
    "    plt.subplot(1,2,2); plt.imshow(post_img); plt.title('Post-Disaster'); plt.axis('off')\n",
    "    plt.show()"
   ]
  },
  {
   "cell_type": "code",
   "execution_count": 3,
   "metadata": {},
   "outputs": [],
   "source": [
    "# Visualize labels (if available)\n",
    "label_files = sorted([f for f in os.listdir(label_dir) if f.endswith(('png','jpg'))])\n",
    "if label_files:\n",
    "    label_img = cv2.imread(os.path.join(label_dir, label_files[0]), cv2.IMREAD_GRAYSCALE)\n",
    "    plt.figure(figsize=(6,6))\n",
    "    plt.imshow(label_img, cmap='gray'); plt.title('Building Labels'); plt.axis('off')\n",
    "    plt.show()\n",
    "else:\n",
    "    print('No labels found in label directory.')"
   ]
  }
 ],
 "metadata": {
  "kernelspec": {
   "display_name": "Python 3",
   "language": "python",
   "name": "python3"
  }
 },
 "nbformat": 4,
 "nbformat_minor": 5
}